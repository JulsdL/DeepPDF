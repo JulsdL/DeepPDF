{
 "cells": [
  {
   "cell_type": "markdown",
   "metadata": {},
   "source": [
    "## Setting up environnement"
   ]
  },
  {
   "cell_type": "code",
   "execution_count": 1,
   "metadata": {},
   "outputs": [],
   "source": [
    "!pip install -qU langchain langchain-core langchain-community langchain-openai"
   ]
  },
  {
   "cell_type": "code",
   "execution_count": 2,
   "metadata": {},
   "outputs": [],
   "source": [
    "!pip install -qU qdrant-client"
   ]
  },
  {
   "cell_type": "code",
   "execution_count": 3,
   "metadata": {},
   "outputs": [],
   "source": [
    "!pip install -qU tiktoken pymupdf"
   ]
  },
  {
   "cell_type": "code",
   "execution_count": 4,
   "metadata": {},
   "outputs": [],
   "source": [
    "import os\n",
    "import getpass\n",
    "\n",
    "os.environ[\"OPENAI_API_KEY\"] = getpass.getpass(\"OpenAI API Key:\")"
   ]
  },
  {
   "cell_type": "code",
   "execution_count": 5,
   "metadata": {},
   "outputs": [],
   "source": [
    "from langchain_openai import ChatOpenAI\n",
    "\n",
    "openai_chat_model = ChatOpenAI(model=\"gpt-3.5-turbo\", temperature=0)"
   ]
  },
  {
   "cell_type": "markdown",
   "metadata": {},
   "source": [
    "## Loading the data"
   ]
  },
  {
   "cell_type": "code",
   "execution_count": 6,
   "metadata": {},
   "outputs": [],
   "source": [
    "from langchain.document_loaders import PyMuPDFLoader\n",
    "\n",
    "docs = PyMuPDFLoader(\"https://d18rn0p25nwr6d.cloudfront.net/CIK-0001326801/c7318154-f6ae-4866-89fa-f0c589f2ee3d.pdf\").load()"
   ]
  },
  {
   "cell_type": "markdown",
   "metadata": {},
   "source": [
    "## Chunking the data"
   ]
  },
  {
   "cell_type": "code",
   "execution_count": 7,
   "metadata": {},
   "outputs": [],
   "source": [
    "from langchain.text_splitter import RecursiveCharacterTextSplitter\n",
    "import tiktoken\n",
    "\n",
    "def tiktoken_len(text):\n",
    "    tokens = tiktoken.encoding_for_model(\"gpt-3.5-turbo\").encode(\n",
    "        text,\n",
    "    )\n",
    "    return len(tokens)\n"
   ]
  },
  {
   "cell_type": "code",
   "execution_count": 8,
   "metadata": {},
   "outputs": [],
   "source": [
    "text_splitter = RecursiveCharacterTextSplitter(\n",
    "    chunk_size = 200,\n",
    "    chunk_overlap = 50,\n",
    "    length_function = tiktoken_len,\n",
    ")\n",
    "\n",
    "split_chunks = text_splitter.split_documents(docs)"
   ]
  },
  {
   "cell_type": "code",
   "execution_count": 9,
   "metadata": {},
   "outputs": [
    {
     "data": {
      "text/plain": [
       "765"
      ]
     },
     "execution_count": 9,
     "metadata": {},
     "output_type": "execute_result"
    }
   ],
   "source": [
    "len(split_chunks)"
   ]
  },
  {
   "cell_type": "markdown",
   "metadata": {},
   "source": [
    "## Embedding and vectore storing"
   ]
  },
  {
   "cell_type": "code",
   "execution_count": 10,
   "metadata": {},
   "outputs": [],
   "source": [
    "from langchain_openai.embeddings import OpenAIEmbeddings\n",
    "\n",
    "embedding_model = OpenAIEmbeddings(model=\"text-embedding-3-small\")"
   ]
  },
  {
   "cell_type": "code",
   "execution_count": 11,
   "metadata": {},
   "outputs": [],
   "source": [
    "from langchain_community.vectorstores import Qdrant\n",
    "\n",
    "qdrant_vectorstore = Qdrant.from_documents(\n",
    "    split_chunks,\n",
    "    embedding_model,\n",
    "    location=\":memory:\",\n",
    "    collection_name=\"Meta 10-k Fillings\",\n",
    ")"
   ]
  },
  {
   "cell_type": "code",
   "execution_count": 12,
   "metadata": {},
   "outputs": [],
   "source": [
    "qdrant_retriever = qdrant_vectorstore.as_retriever()"
   ]
  },
  {
   "cell_type": "markdown",
   "metadata": {},
   "source": [
    "## RAG Prompt"
   ]
  },
  {
   "cell_type": "code",
   "execution_count": 13,
   "metadata": {},
   "outputs": [],
   "source": [
    "from langchain_core.prompts import ChatPromptTemplate"
   ]
  },
  {
   "cell_type": "code",
   "execution_count": 14,
   "metadata": {},
   "outputs": [],
   "source": [
    "RAG_PROMPT = \"\"\"\n",
    "CONTEXT:\n",
    "{context}\n",
    "\n",
    "QUERY:\n",
    "{question}\n",
    "\n",
    "Answer the query if the context is related to it; otherwise, answer: 'Sorry, the context is unrelated to the query, I can't answer.'\n",
    "\"\"\"\n",
    "\n",
    "rag_prompt = ChatPromptTemplate.from_template(RAG_PROMPT)"
   ]
  },
  {
   "cell_type": "markdown",
   "metadata": {},
   "source": [
    "## RAG Chain"
   ]
  },
  {
   "cell_type": "code",
   "execution_count": 15,
   "metadata": {},
   "outputs": [],
   "source": [
    "from operator import itemgetter\n",
    "from langchain.schema.runnable import RunnablePassthrough\n",
    "\n",
    "retrieval_augmented_qa_chain = (\n",
    "\n",
    "    {\"context\": itemgetter(\"question\") | qdrant_retriever, \"question\": itemgetter(\"question\")}\n",
    "\n",
    "    | RunnablePassthrough.assign(context=itemgetter(\"context\"))\n",
    "\n",
    "    | {\"response\": rag_prompt | openai_chat_model, \"context\": itemgetter(\"context\")}\n",
    ")"
   ]
  },
  {
   "cell_type": "markdown",
   "metadata": {},
   "source": [
    "## Response generation"
   ]
  },
  {
   "cell_type": "code",
   "execution_count": 16,
   "metadata": {},
   "outputs": [
    {
     "data": {
      "text/plain": [
       "\"The total value of 'Cash and cash equivalents' as of December 31, 2023, was $41,862.\""
      ]
     },
     "execution_count": 16,
     "metadata": {},
     "output_type": "execute_result"
    }
   ],
   "source": [
    "response_1 = retrieval_augmented_qa_chain.invoke({\"question\" : \"What was the total value of 'Cash and cash equivalents' as of December 31, 2023?\"})\n",
    "response_1[\"response\"].content"
   ]
  },
  {
   "cell_type": "code",
   "execution_count": 17,
   "metadata": {},
   "outputs": [
    {
     "data": {
      "text/plain": [
       "\"The context provided does not mention the specific names of Meta's Directors (members of the Board of Directors). Therefore, I cannot answer the query based on the given information. Sorry, the context is unrelated to the query, I can't answer.\""
      ]
     },
     "execution_count": 17,
     "metadata": {},
     "output_type": "execute_result"
    }
   ],
   "source": [
    "response_2 = retrieval_augmented_qa_chain.invoke({\"question\" : \"Who are Meta's 'Directors' (i.e., members of the Board of Directors)?\"})\n",
    "response_2[\"response\"].content"
   ]
  },
  {
   "cell_type": "code",
   "execution_count": 18,
   "metadata": {},
   "outputs": [
    {
     "data": {
      "text/plain": [
       "[Document(page_content='to having a skilled, inclusive and diverse workforce because we believe cognitive diversity fuels innovation. To aid in this effort, we have taken steps to reduce\\nbias from our hiring processes and performance management systems, as well as offering learning and development courses for our employees.\\nCorporate Information\\nWe were incorporated in Delaware in July 2004. We completed our initial public offering in May 2012 and our Class\\xa0A common stock is currently listed\\non the Nasdaq Global Select Market under the symbol \"META.\" Our principal executive offices are located at 1 Meta Way, Menlo Park, California 94025, and\\nour telephone number is (650) 543-4800.\\nMeta, the Meta logo, Meta Quest, Meta Horizon, Facebook, FB, Instagram, Oculus, WhatsApp, Reels, and our other registered or common law', metadata={'source': 'https://d18rn0p25nwr6d.cloudfront.net/CIK-0001326801/c7318154-f6ae-4866-89fa-f0c589f2ee3d.pdf', 'file_path': 'https://d18rn0p25nwr6d.cloudfront.net/CIK-0001326801/c7318154-f6ae-4866-89fa-f0c589f2ee3d.pdf', 'page': 13, 'total_pages': 147, 'format': 'PDF 1.4', 'title': '0001326801-24-000012', 'author': 'EDGAR® Online LLC, a subsidiary of OTC Markets Group', 'subject': 'Form 10-K filed on 2024-02-02 for the period ending 2023-12-31', 'keywords': '0001326801-24-000012; ; 10-K', 'creator': 'EDGAR Filing HTML Converter', 'producer': 'EDGRpdf Service w/ EO.Pdf 22.0.40.0', 'creationDate': \"D:20240202060356-05'00'\", 'modDate': \"D:20240202060413-05'00'\", 'trapped': '', 'encryption': 'Standard V2 R3 128-bit RC4', '_id': '932de8d5f66d473da4078f11375cf86e', '_collection_name': 'Meta 10-k Fillings'}),\n",
       " Document(page_content=\"(Exact name of registrant as specified in its charter)\\n__________________________\\nDelaware\\n20-1665019\\n(State or other jurisdiction of incorporation or organization)\\n(I.R.S. Employer Identification Number)\\n1 Meta Way, Menlo Park, California 94025\\n(Address of principal executive offices and Zip Code)\\n(650)\\xa0543-4800\\n(Registrant's telephone number, including area code)\\n__________________________\\nSecurities registered pursuant to Section 12(b) of the Act:\\nTitle of each class\\nTrading symbol(s)\\nName of each exchange on which registered\\nClass A Common Stock, $0.000006 par value\\nMETA\\nThe Nasdaq Stock Market LLC\\nSecurities registered pursuant to Section 12(g) of the Act: None\", metadata={'source': 'https://d18rn0p25nwr6d.cloudfront.net/CIK-0001326801/c7318154-f6ae-4866-89fa-f0c589f2ee3d.pdf', 'file_path': 'https://d18rn0p25nwr6d.cloudfront.net/CIK-0001326801/c7318154-f6ae-4866-89fa-f0c589f2ee3d.pdf', 'page': 0, 'total_pages': 147, 'format': 'PDF 1.4', 'title': '0001326801-24-000012', 'author': 'EDGAR® Online LLC, a subsidiary of OTC Markets Group', 'subject': 'Form 10-K filed on 2024-02-02 for the period ending 2023-12-31', 'keywords': '0001326801-24-000012; ; 10-K', 'creator': 'EDGAR Filing HTML Converter', 'producer': 'EDGRpdf Service w/ EO.Pdf 22.0.40.0', 'creationDate': \"D:20240202060356-05'00'\", 'modDate': \"D:20240202060413-05'00'\", 'trapped': '', 'encryption': 'Standard V2 R3 128-bit RC4', '_id': 'b1b58b6a9a974d0986191c1abb65c6e2', '_collection_name': 'Meta 10-k Fillings'}),\n",
       " Document(page_content='making to real-time optimizations to post-campaign analytics. We work directly with these advertisers, as well as through advertising agencies and resellers.\\nWe operate offices in approximately 90\\xa0cities around the globe, the majority of which have a sales presence. We also invest in and rely on self-service tools to\\nprovide direct customer support to our users and partners.\\nFor our RL products, our sales and operations efforts utilize third-party sales channels such as retailers, resellers, and our direct-to-consumer channel,\\nMeta.com. These efforts are focused on driving consumer and enterprise sales and adoption of our Meta Quest portfolio of products and Ray-Ban Meta smart\\nglasses.\\nMarketing\\nHistorically, our communities have generally grown organically with people inviting their friends to connect with them, supported by internal efforts to\\nstimulate awareness and interest. In addition, we have invested and will continue to invest in marketing our products and services to grow our brand and help', metadata={'source': 'https://d18rn0p25nwr6d.cloudfront.net/CIK-0001326801/c7318154-f6ae-4866-89fa-f0c589f2ee3d.pdf', 'file_path': 'https://d18rn0p25nwr6d.cloudfront.net/CIK-0001326801/c7318154-f6ae-4866-89fa-f0c589f2ee3d.pdf', 'page': 9, 'total_pages': 147, 'format': 'PDF 1.4', 'title': '0001326801-24-000012', 'author': 'EDGAR® Online LLC, a subsidiary of OTC Markets Group', 'subject': 'Form 10-K filed on 2024-02-02 for the period ending 2023-12-31', 'keywords': '0001326801-24-000012; ; 10-K', 'creator': 'EDGAR Filing HTML Converter', 'producer': 'EDGRpdf Service w/ EO.Pdf 22.0.40.0', 'creationDate': \"D:20240202060356-05'00'\", 'modDate': \"D:20240202060413-05'00'\", 'trapped': '', 'encryption': 'Standard V2 R3 128-bit RC4', '_id': '48628c94f78b405295d25cea1891f810', '_collection_name': 'Meta 10-k Fillings'}),\n",
       " Document(page_content='decision-making and prioritization of cybersecurity countermeasures and risk mitigation strategies. Our risk mitigation strategies include a broad variety of\\ntechnical and operational measures, as well as annual cybersecurity and privacy training for all of our employees.\\nIn addition, we maintain specific policies and practices governing our third-party security risks, including our third-party assessment (TPA) process.\\nUnder our TPA process, we gather information from certain third parties who contract with Meta and share or receive data, or have access to or integrate with\\nour systems, in order to help us assess potential risks associated with their security controls. We also generally require third parties to, among other things,\\nmaintain security controls to protect our confidential information and data, and notify us of material data breaches that may impact our data.\\nOur board of directors has oversight of our strategic and business risk management and has delegated cybersecurity risk management oversight to the', metadata={'source': 'https://d18rn0p25nwr6d.cloudfront.net/CIK-0001326801/c7318154-f6ae-4866-89fa-f0c589f2ee3d.pdf', 'file_path': 'https://d18rn0p25nwr6d.cloudfront.net/CIK-0001326801/c7318154-f6ae-4866-89fa-f0c589f2ee3d.pdf', 'page': 51, 'total_pages': 147, 'format': 'PDF 1.4', 'title': '0001326801-24-000012', 'author': 'EDGAR® Online LLC, a subsidiary of OTC Markets Group', 'subject': 'Form 10-K filed on 2024-02-02 for the period ending 2023-12-31', 'keywords': '0001326801-24-000012; ; 10-K', 'creator': 'EDGAR Filing HTML Converter', 'producer': 'EDGRpdf Service w/ EO.Pdf 22.0.40.0', 'creationDate': \"D:20240202060356-05'00'\", 'modDate': \"D:20240202060413-05'00'\", 'trapped': '', 'encryption': 'Standard V2 R3 128-bit RC4', '_id': '98773667e27d4253b08f882498bb4594', '_collection_name': 'Meta 10-k Fillings'})]"
      ]
     },
     "execution_count": 18,
     "metadata": {},
     "output_type": "execute_result"
    }
   ],
   "source": [
    "response_2[\"context\"]"
   ]
  },
  {
   "cell_type": "markdown",
   "metadata": {},
   "source": [
    "## First pipeline results analysis\n",
    "\n",
    "- The answer to the first question is right.\n",
    "- The answer to the second question is false. It shows that the pipeline is not able to retrieve the context needed to answer.\n",
    "- I will have to upgrade the context retrieval part of the pipeline."
   ]
  },
  {
   "cell_type": "markdown",
   "metadata": {},
   "source": [
    "## Upgrading the chunking strategy\n",
    "- As we're dealing with a large PDF including tables, let's try to adapt the chunking size to a larger value"
   ]
  },
  {
   "cell_type": "code",
   "execution_count": 19,
   "metadata": {},
   "outputs": [],
   "source": [
    "text_splitter_2 = RecursiveCharacterTextSplitter(\n",
    "    chunk_size = 800,\n",
    "    chunk_overlap = 100,\n",
    "    length_function = tiktoken_len,\n",
    ")\n",
    "\n",
    "split_chunks_2 = text_splitter_2.split_documents(docs)"
   ]
  },
  {
   "cell_type": "code",
   "execution_count": 20,
   "metadata": {},
   "outputs": [
    {
     "data": {
      "text/plain": [
       "220"
      ]
     },
     "execution_count": 20,
     "metadata": {},
     "output_type": "execute_result"
    }
   ],
   "source": [
    "len(split_chunks_2)"
   ]
  },
  {
   "cell_type": "code",
   "execution_count": 21,
   "metadata": {},
   "outputs": [],
   "source": [
    "qdrant_vectorstore_2 = Qdrant.from_documents(\n",
    "    split_chunks_2,\n",
    "    embedding_model,\n",
    "    location=\":memory:\",\n",
    "    collection_name=\"Meta 10-k Fillings 2\",\n",
    ")"
   ]
  },
  {
   "cell_type": "code",
   "execution_count": 22,
   "metadata": {},
   "outputs": [],
   "source": [
    "qdrant_retriever_2 = qdrant_vectorstore_2.as_retriever()"
   ]
  },
  {
   "cell_type": "code",
   "execution_count": 23,
   "metadata": {},
   "outputs": [],
   "source": [
    "retrieval_augmented_qa_chain_2 = (\n",
    "\n",
    "    {\"context\": itemgetter(\"question\") | qdrant_retriever_2, \"question\": itemgetter(\"question\")}\n",
    "\n",
    "    | RunnablePassthrough.assign(context=itemgetter(\"context\"))\n",
    "\n",
    "    | {\"response\": rag_prompt | openai_chat_model, \"context\": itemgetter(\"context\")}\n",
    ")"
   ]
  },
  {
   "cell_type": "code",
   "execution_count": 24,
   "metadata": {},
   "outputs": [
    {
     "data": {
      "text/plain": [
       "\"The total value of 'Cash and cash equivalents' as of December 31, 2023, was $41,862 million.\""
      ]
     },
     "execution_count": 24,
     "metadata": {},
     "output_type": "execute_result"
    }
   ],
   "source": [
    "response_1b = retrieval_augmented_qa_chain_2.invoke({\"question\" : \"What was the total value of 'Cash and cash equivalents' as of December 31, 2023?\"})\n",
    "response_1b[\"response\"].content"
   ]
  },
  {
   "cell_type": "code",
   "execution_count": 25,
   "metadata": {},
   "outputs": [
    {
     "data": {
      "text/plain": [
       "\"Sorry, the context is unrelated to the query, I can't answer.\""
      ]
     },
     "execution_count": 25,
     "metadata": {},
     "output_type": "execute_result"
    }
   ],
   "source": [
    "response_2b = retrieval_augmented_qa_chain_2.invoke({\"question\" : \"Who are Meta's 'Directors' (i.e., members of the Board of Directors)?\"})\n",
    "response_2b[\"response\"].content"
   ]
  },
  {
   "cell_type": "code",
   "execution_count": 26,
   "metadata": {},
   "outputs": [
    {
     "data": {
      "text/plain": [
       "[Document(page_content='Table of Contents\\nCompensation, Benefits, Health, and Well-being\\nWe offer competitive compensation to attract and retain the best people, and we help care for our people so they can focus on our mission. Our\\nemployees\\' total compensation package includes market-competitive salary, bonuses or sales incentives, and equity. We generally offer full-time employees\\nequity at the time of hire and through annual equity grants because we want them to be owners of the company and committed to our long-term success. We\\nhave conducted pay equity analyses for many years, and continue to be committed to pay equity. For example, in July 2023, we announced that our analyses\\nconfirm that we continue to have pay equity across genders globally and by race in the United States for people in similar jobs, accounting for factors such as\\nlocation, role, and level.\\nThrough Life@ Meta, our holistic approach to benefits, we continue to provide our employees and their dependents with resources to help them thrive.\\nWe offer a wide range of benefits across areas such as health, family, finance, community, and time away, including family building benefits, family care\\nresources, retirement savings plans, access to legal services, Meta Resource Groups to build community at Meta, and health and well-being benefits.\\nOur health and well-being programs are designed to give employees a choice of flexible benefits to help them reach their personal well-being goals. Our\\nprograms are tailored to help boost employee physical and mental health, create financial peace of mind, provide support for families, and help employees\\nbuild a strong community. Programs are designed and funded to support needs like autism care, cancer care, transgender services, holistic well-being, including\\nmental health programs and retirement savings, which represent a few of the ways we support our employees and their dependents.\\nDiverse and Inclusive Workplace\\nWe work to build a diverse and inclusive workplace where we can leverage our collective cognitive diversity to build the best products and make the\\nbest decisions for the global community we serve.\\nIn our 2023 Responsible Business Practices Report, we published our global diversity and U.S. ethnic diversity workforce data. As of December 31,\\n2022, our global employee base was composed of 45.4% underrepresented people, with 47.9% underrepresented people in the U.S., and 43.1% of our leaders\\nin the U.S. being people of color. As published in our 2023 Responsible Business Practices Report, people with disabilities now represent 7.2% of our U.S.\\nworkforce, and based on voluntary self-identification, veterans represented 2.3% and members of the LGBTQ+ community make up 9.8% of our U.S.\\nworkforce.\\nWe want our products to work for people around the world and we need to grow and keep the best talent in order to do that. We also remain committed\\nto having a skilled, inclusive and diverse workforce because we believe cognitive diversity fuels innovation. To aid in this effort, we have taken steps to reduce\\nbias from our hiring processes and performance management systems, as well as offering learning and development courses for our employees.\\nCorporate Information\\nWe were incorporated in Delaware in July 2004. We completed our initial public offering in May 2012 and our Class\\xa0A common stock is currently listed\\non the Nasdaq Global Select Market under the symbol \"META.\" Our principal executive offices are located at 1 Meta Way, Menlo Park, California 94025, and\\nour telephone number is (650) 543-4800.\\nMeta, the Meta logo, Meta Quest, Meta Horizon, Facebook, FB, Instagram, Oculus, WhatsApp, Reels, and our other registered or common law', metadata={'source': 'https://d18rn0p25nwr6d.cloudfront.net/CIK-0001326801/c7318154-f6ae-4866-89fa-f0c589f2ee3d.pdf', 'file_path': 'https://d18rn0p25nwr6d.cloudfront.net/CIK-0001326801/c7318154-f6ae-4866-89fa-f0c589f2ee3d.pdf', 'page': 13, 'total_pages': 147, 'format': 'PDF 1.4', 'title': '0001326801-24-000012', 'author': 'EDGAR® Online LLC, a subsidiary of OTC Markets Group', 'subject': 'Form 10-K filed on 2024-02-02 for the period ending 2023-12-31', 'keywords': '0001326801-24-000012; ; 10-K', 'creator': 'EDGAR Filing HTML Converter', 'producer': 'EDGRpdf Service w/ EO.Pdf 22.0.40.0', 'creationDate': \"D:20240202060356-05'00'\", 'modDate': \"D:20240202060413-05'00'\", 'trapped': '', 'encryption': 'Standard V2 R3 128-bit RC4', '_id': 'dda069835c8449b7a62248be915eeb08', '_collection_name': 'Meta 10-k Fillings 2'}),\n",
       " Document(page_content='Table of Contents\\nItem 1B. Unresolved Staff Comments\\nNone.\\nItem 1C. Cybersecurity\\nAt Meta, cybersecurity risk management is an important part of our overall risk management efforts. Our industry is prone to cybersecurity threats and\\nattacks, and we regularly experience cybersecurity incidents of varying degrees. We believe we are a particularly attractive target as a result of our prominence\\nand scale, the types and volume of personal data and content on our systems, and the evolving nature of our products and services. Our products and services\\nreach billions of users and involve the collection, storage, processing, and transmission of a large amount of data. In addition, our business and operations span\\nnumerous geographies around the world, involve thousands of employees, contractors, vendors, developers, partners, and other third parties, and rely on\\nsoftware and hardware that is highly technical and complex. We maintain an information security program that is comprised of policies and controls designed\\nto mitigate cybersecurity risk. However, at any given time, we face known and unknown cybersecurity risks and threats that are not fully mitigated, and we\\ndiscover vulnerabilities in our program. We continuously work to enhance our information security program and risk management efforts.\\nWe use a risk management framework based on applicable laws and regulations, and informed by industry standards and industry-recognized practices,\\nfor managing cybersecurity risks within our products and services, infrastructure, and corporate resources. To identify and assess risks from cybersecurity\\nthreats, we evaluate a variety of developments including threat intelligence, first- and third-party vulnerabilities, evolving regulatory requirements, and\\nobserved cybersecurity incidents, among others. We regularly conduct risk assessments to evaluate the maturity and effectiveness of our systems and processes\\nin addressing cybersecurity threats and to identify any areas for remediation and opportunities for enhancements. We also engage third-party security experts\\nand consultants to assist with assessment and enhancement of our cybersecurity risk management processes, as well as benchmarking against industry\\npractices. In addition, we maintain a privacy risk management program to assess privacy risks related to how we are collecting, using, sharing, and storing user\\ndata, which is subject to assessment by an independent, third-party privacy assessor. Our internal audit function provides independent assessment and assurance\\non the overall operations of our cybersecurity and privacy programs and the supporting control frameworks. These processes support informed risk-based\\ndecision-making and prioritization of cybersecurity countermeasures and risk mitigation strategies. Our risk mitigation strategies include a broad variety of\\ntechnical and operational measures, as well as annual cybersecurity and privacy training for all of our employees.\\nIn addition, we maintain specific policies and practices governing our third-party security risks, including our third-party assessment (TPA) process.\\nUnder our TPA process, we gather information from certain third parties who contract with Meta and share or receive data, or have access to or integrate with\\nour systems, in order to help us assess potential risks associated with their security controls. We also generally require third parties to, among other things,\\nmaintain security controls to protect our confidential information and data, and notify us of material data breaches that may impact our data.\\nOur board of directors has oversight of our strategic and business risk management and has delegated cybersecurity risk management oversight to the\\naudit & risk oversight committee of our board of directors (Audit & Risk Oversight Committee). Our Audit & Risk Oversight Committee is responsible for\\nensuring that management has processes in place designed to identify and evaluate cybersecurity risks to which the company is exposed and to implement\\nprocesses and programs to manage cybersecurity risks and mitigate cybersecurity incidents. The privacy committee of our board of directors (Privacy\\nCommittee) oversees risks related to privacy and data use, including overseeing compliance with our comprehensive privacy program. Management is\\nresponsible for identifying, assessing, and managing material cybersecurity risks on an ongoing basis, establishing processes to ensure that such potential', metadata={'source': 'https://d18rn0p25nwr6d.cloudfront.net/CIK-0001326801/c7318154-f6ae-4866-89fa-f0c589f2ee3d.pdf', 'file_path': 'https://d18rn0p25nwr6d.cloudfront.net/CIK-0001326801/c7318154-f6ae-4866-89fa-f0c589f2ee3d.pdf', 'page': 51, 'total_pages': 147, 'format': 'PDF 1.4', 'title': '0001326801-24-000012', 'author': 'EDGAR® Online LLC, a subsidiary of OTC Markets Group', 'subject': 'Form 10-K filed on 2024-02-02 for the period ending 2023-12-31', 'keywords': '0001326801-24-000012; ; 10-K', 'creator': 'EDGAR Filing HTML Converter', 'producer': 'EDGRpdf Service w/ EO.Pdf 22.0.40.0', 'creationDate': \"D:20240202060356-05'00'\", 'modDate': \"D:20240202060413-05'00'\", 'trapped': '', 'encryption': 'Standard V2 R3 128-bit RC4', '_id': '591aa54a87154d7e9184a79ebb219377', '_collection_name': 'Meta 10-k Fillings 2'}),\n",
       " Document(page_content='stockholders may be called only by a majority of our board of directors, the chairman of our board of directors, our chief executive officer or our president.\\n•\\nAdvance Notice Requirements for Stockholder Proposals and Director Nominations. Our amended and restated bylaws provide advance notice\\nprocedures for stockholders seeking to bring business before our annual meeting of stockholders, or to nominate candidates for election as directors at any\\nmeeting of stockholders. Our amended and restated bylaws also specify certain requirements regarding the form and content of a stockholder’s notice.\\nThese provisions may preclude our stockholders from bringing matters before our annual meeting of stockholders or from making nominations for\\ndirectors at our meetings of stockholders.\\n•\\nIssuance of Undesignated Preferred Stock. Our board of directors has the authority, without further action by the stockholders, to issue up to\\n100,000,000 shares of undesignated preferred stock with rights and preferences, including voting rights, designated from time to time by the board of\\ndirectors. The existence of authorized but unissued shares of preferred stock enables our board of directors to render more difficult or to discourage an\\nattempt to obtain control of us by means of a merger, tender offer, proxy contest or otherwise.\\nChoice of Forum\\nOur amended and restated certificate of incorporation provides that the Court of Chancery of the State of Delaware is the exclusive forum for any\\nderivative action or proceeding brought on our behalf; any action asserting a breach of fiduciary duty; any action asserting a claim against us arising pursuant\\nto the Delaware General Corporation Law, our amended and restated certificate of incorporation or our amended and restated bylaws; or any action asserting a\\nclaim against us that is governed by the internal affairs doctrine.\\nListing\\nOur Class A common stock is listed on the Nasdaq Global Select Market under the symbol “META.”\\nTransfer Agent and Registrar\\nThe transfer agent and registrar for our common stock is Computershare Trust Company, N.A.\\n4', metadata={'source': 'https://d18rn0p25nwr6d.cloudfront.net/CIK-0001326801/c7318154-f6ae-4866-89fa-f0c589f2ee3d.pdf', 'file_path': 'https://d18rn0p25nwr6d.cloudfront.net/CIK-0001326801/c7318154-f6ae-4866-89fa-f0c589f2ee3d.pdf', 'page': 136, 'total_pages': 147, 'format': 'PDF 1.4', 'title': '0001326801-24-000012', 'author': 'EDGAR® Online LLC, a subsidiary of OTC Markets Group', 'subject': 'Form 10-K filed on 2024-02-02 for the period ending 2023-12-31', 'keywords': '0001326801-24-000012; ; 10-K', 'creator': 'EDGAR Filing HTML Converter', 'producer': 'EDGRpdf Service w/ EO.Pdf 22.0.40.0', 'creationDate': \"D:20240202060356-05'00'\", 'modDate': \"D:20240202060413-05'00'\", 'trapped': '', 'encryption': 'Standard V2 R3 128-bit RC4', '_id': '1a0a444775e048199ca6a637e7621427', '_collection_name': 'Meta 10-k Fillings 2'}),\n",
       " Document(page_content='on the Nasdaq Global Select Market under the symbol \"META.\" Our principal executive offices are located at 1 Meta Way, Menlo Park, California 94025, and\\nour telephone number is (650) 543-4800.\\nMeta, the Meta logo, Meta Quest, Meta Horizon, Facebook, FB, Instagram, Oculus, WhatsApp, Reels, and our other registered or common law\\ntrademarks, service marks, or trade names appearing in this Annual Report on Form 10-K are the property of Meta Platforms, Inc. or its affiliates. Other\\ntrademarks, service marks, or trade names appearing in this Annual Report on Form 10‑K are the property of their respective owners.\\nAvailable Information\\nOur Annual Reports on Form 10-K, Quarterly Reports on Form 10-Q, Current Reports on Form 8-K, and amendments to reports filed pursuant to\\nSections\\xa013(a) and 15(d) of the Securities Exchange Act of 1934, as amended (Exchange Act), are filed with the U.S. Securities and Exchange Commission\\n(SEC). We are subject to the informational requirements of the Exchange Act and file or furnish reports, proxy statements, and other information with the SEC.\\nSuch reports and other information filed by us with the SEC are available free of charge on our website at investor.fb.com when such reports are\\n13', metadata={'source': 'https://d18rn0p25nwr6d.cloudfront.net/CIK-0001326801/c7318154-f6ae-4866-89fa-f0c589f2ee3d.pdf', 'file_path': 'https://d18rn0p25nwr6d.cloudfront.net/CIK-0001326801/c7318154-f6ae-4866-89fa-f0c589f2ee3d.pdf', 'page': 13, 'total_pages': 147, 'format': 'PDF 1.4', 'title': '0001326801-24-000012', 'author': 'EDGAR® Online LLC, a subsidiary of OTC Markets Group', 'subject': 'Form 10-K filed on 2024-02-02 for the period ending 2023-12-31', 'keywords': '0001326801-24-000012; ; 10-K', 'creator': 'EDGAR Filing HTML Converter', 'producer': 'EDGRpdf Service w/ EO.Pdf 22.0.40.0', 'creationDate': \"D:20240202060356-05'00'\", 'modDate': \"D:20240202060413-05'00'\", 'trapped': '', 'encryption': 'Standard V2 R3 128-bit RC4', '_id': '68a01fdf59c44ebd989df429573597dc', '_collection_name': 'Meta 10-k Fillings 2'})]"
      ]
     },
     "execution_count": 26,
     "metadata": {},
     "output_type": "execute_result"
    }
   ],
   "source": [
    "response_2b[\"context\"]"
   ]
  },
  {
   "cell_type": "markdown",
   "metadata": {},
   "source": [
    "## Second pipeline results analysis\n",
    "- The second pipeline shows the same results as the first one. The context retrieval is still not working properly, despite the larger chunking size."
   ]
  },
  {
   "cell_type": "markdown",
   "metadata": {},
   "source": [
    "## Upgrading the retrieval strategy\n",
    "- While conserving the same chunking strategy as in the first pipeline, I will try to upgrade the retrieval strategy by using the MultiQueryRetriever."
   ]
  },
  {
   "cell_type": "code",
   "execution_count": 27,
   "metadata": {},
   "outputs": [],
   "source": [
    "from langchain.retrievers import MultiQueryRetriever\n",
    "\n",
    "multiquery_retriever = MultiQueryRetriever.from_llm(retriever=qdrant_retriever, llm=openai_chat_model)"
   ]
  },
  {
   "cell_type": "code",
   "execution_count": 28,
   "metadata": {},
   "outputs": [],
   "source": [
    "retrieval_augmented_qa_chain_3 = (\n",
    "\n",
    "    {\"context\": itemgetter(\"question\") | multiquery_retriever, \"question\": itemgetter(\"question\")}\n",
    "\n",
    "    | RunnablePassthrough.assign(context=itemgetter(\"context\"))\n",
    "\n",
    "    | {\"response\": rag_prompt | openai_chat_model, \"context\": itemgetter(\"context\")}\n",
    ")"
   ]
  },
  {
   "cell_type": "code",
   "execution_count": 29,
   "metadata": {},
   "outputs": [
    {
     "data": {
      "text/plain": [
       "\"The total value of 'Cash and cash equivalents' as of December 31, 2023, was $41,862.\""
      ]
     },
     "execution_count": 29,
     "metadata": {},
     "output_type": "execute_result"
    }
   ],
   "source": [
    "response_1c = retrieval_augmented_qa_chain_3.invoke({\"question\" : \"What was the total value of 'Cash and cash equivalents' as of December 31, 2023?\"})\n",
    "response_1c[\"response\"].content"
   ]
  },
  {
   "cell_type": "code",
   "execution_count": 30,
   "metadata": {},
   "outputs": [
    {
     "data": {
      "text/plain": [
       "\"The members of Meta's Board of Directors are:\\n1. Mark Zuckerberg\\n2. Susan Li\\n3. Aaron Anderson\\n4. Peggy Alford\\n5. Marc L. Andreessen\\n6. Andrew W. Houston\\n7. Nancy Killefer\\n8. Robert M. Kimmitt\""
      ]
     },
     "execution_count": 30,
     "metadata": {},
     "output_type": "execute_result"
    }
   ],
   "source": [
    "response_2c = retrieval_augmented_qa_chain_3.invoke({\"question\" : \"Who are Meta's 'Directors' (i.e., members of the Board of Directors)?\"})\n",
    "response_2c[\"response\"].content"
   ]
  },
  {
   "cell_type": "code",
   "execution_count": 31,
   "metadata": {},
   "outputs": [
    {
     "data": {
      "text/plain": [
       "[Document(page_content='to having a skilled, inclusive and diverse workforce because we believe cognitive diversity fuels innovation. To aid in this effort, we have taken steps to reduce\\nbias from our hiring processes and performance management systems, as well as offering learning and development courses for our employees.\\nCorporate Information\\nWe were incorporated in Delaware in July 2004. We completed our initial public offering in May 2012 and our Class\\xa0A common stock is currently listed\\non the Nasdaq Global Select Market under the symbol \"META.\" Our principal executive offices are located at 1 Meta Way, Menlo Park, California 94025, and\\nour telephone number is (650) 543-4800.\\nMeta, the Meta logo, Meta Quest, Meta Horizon, Facebook, FB, Instagram, Oculus, WhatsApp, Reels, and our other registered or common law', metadata={'source': 'https://d18rn0p25nwr6d.cloudfront.net/CIK-0001326801/c7318154-f6ae-4866-89fa-f0c589f2ee3d.pdf', 'file_path': 'https://d18rn0p25nwr6d.cloudfront.net/CIK-0001326801/c7318154-f6ae-4866-89fa-f0c589f2ee3d.pdf', 'page': 13, 'total_pages': 147, 'format': 'PDF 1.4', 'title': '0001326801-24-000012', 'author': 'EDGAR® Online LLC, a subsidiary of OTC Markets Group', 'subject': 'Form 10-K filed on 2024-02-02 for the period ending 2023-12-31', 'keywords': '0001326801-24-000012; ; 10-K', 'creator': 'EDGAR Filing HTML Converter', 'producer': 'EDGRpdf Service w/ EO.Pdf 22.0.40.0', 'creationDate': \"D:20240202060356-05'00'\", 'modDate': \"D:20240202060413-05'00'\", 'trapped': '', 'encryption': 'Standard V2 R3 128-bit RC4', '_id': '932de8d5f66d473da4078f11375cf86e', '_collection_name': 'Meta 10-k Fillings'}),\n",
       " Document(page_content=\"(Exact name of registrant as specified in its charter)\\n__________________________\\nDelaware\\n20-1665019\\n(State or other jurisdiction of incorporation or organization)\\n(I.R.S. Employer Identification Number)\\n1 Meta Way, Menlo Park, California 94025\\n(Address of principal executive offices and Zip Code)\\n(650)\\xa0543-4800\\n(Registrant's telephone number, including area code)\\n__________________________\\nSecurities registered pursuant to Section 12(b) of the Act:\\nTitle of each class\\nTrading symbol(s)\\nName of each exchange on which registered\\nClass A Common Stock, $0.000006 par value\\nMETA\\nThe Nasdaq Stock Market LLC\\nSecurities registered pursuant to Section 12(g) of the Act: None\", metadata={'source': 'https://d18rn0p25nwr6d.cloudfront.net/CIK-0001326801/c7318154-f6ae-4866-89fa-f0c589f2ee3d.pdf', 'file_path': 'https://d18rn0p25nwr6d.cloudfront.net/CIK-0001326801/c7318154-f6ae-4866-89fa-f0c589f2ee3d.pdf', 'page': 0, 'total_pages': 147, 'format': 'PDF 1.4', 'title': '0001326801-24-000012', 'author': 'EDGAR® Online LLC, a subsidiary of OTC Markets Group', 'subject': 'Form 10-K filed on 2024-02-02 for the period ending 2023-12-31', 'keywords': '0001326801-24-000012; ; 10-K', 'creator': 'EDGAR Filing HTML Converter', 'producer': 'EDGRpdf Service w/ EO.Pdf 22.0.40.0', 'creationDate': \"D:20240202060356-05'00'\", 'modDate': \"D:20240202060413-05'00'\", 'trapped': '', 'encryption': 'Standard V2 R3 128-bit RC4', '_id': 'b1b58b6a9a974d0986191c1abb65c6e2', '_collection_name': 'Meta 10-k Fillings'}),\n",
       " Document(page_content='making to real-time optimizations to post-campaign analytics. We work directly with these advertisers, as well as through advertising agencies and resellers.\\nWe operate offices in approximately 90\\xa0cities around the globe, the majority of which have a sales presence. We also invest in and rely on self-service tools to\\nprovide direct customer support to our users and partners.\\nFor our RL products, our sales and operations efforts utilize third-party sales channels such as retailers, resellers, and our direct-to-consumer channel,\\nMeta.com. These efforts are focused on driving consumer and enterprise sales and adoption of our Meta Quest portfolio of products and Ray-Ban Meta smart\\nglasses.\\nMarketing\\nHistorically, our communities have generally grown organically with people inviting their friends to connect with them, supported by internal efforts to\\nstimulate awareness and interest. In addition, we have invested and will continue to invest in marketing our products and services to grow our brand and help', metadata={'source': 'https://d18rn0p25nwr6d.cloudfront.net/CIK-0001326801/c7318154-f6ae-4866-89fa-f0c589f2ee3d.pdf', 'file_path': 'https://d18rn0p25nwr6d.cloudfront.net/CIK-0001326801/c7318154-f6ae-4866-89fa-f0c589f2ee3d.pdf', 'page': 9, 'total_pages': 147, 'format': 'PDF 1.4', 'title': '0001326801-24-000012', 'author': 'EDGAR® Online LLC, a subsidiary of OTC Markets Group', 'subject': 'Form 10-K filed on 2024-02-02 for the period ending 2023-12-31', 'keywords': '0001326801-24-000012; ; 10-K', 'creator': 'EDGAR Filing HTML Converter', 'producer': 'EDGRpdf Service w/ EO.Pdf 22.0.40.0', 'creationDate': \"D:20240202060356-05'00'\", 'modDate': \"D:20240202060413-05'00'\", 'trapped': '', 'encryption': 'Standard V2 R3 128-bit RC4', '_id': '48628c94f78b405295d25cea1891f810', '_collection_name': 'Meta 10-k Fillings'}),\n",
       " Document(page_content='our telephone number is (650) 543-4800.\\nMeta, the Meta logo, Meta Quest, Meta Horizon, Facebook, FB, Instagram, Oculus, WhatsApp, Reels, and our other registered or common law\\ntrademarks, service marks, or trade names appearing in this Annual Report on Form 10-K are the property of Meta Platforms, Inc. or its affiliates. Other\\ntrademarks, service marks, or trade names appearing in this Annual Report on Form 10‑K are the property of their respective owners.\\nAvailable Information\\nOur Annual Reports on Form 10-K, Quarterly Reports on Form 10-Q, Current Reports on Form 8-K, and amendments to reports filed pursuant to\\nSections\\xa013(a) and 15(d) of the Securities Exchange Act of 1934, as amended (Exchange Act), are filed with the U.S. Securities and Exchange Commission', metadata={'source': 'https://d18rn0p25nwr6d.cloudfront.net/CIK-0001326801/c7318154-f6ae-4866-89fa-f0c589f2ee3d.pdf', 'file_path': 'https://d18rn0p25nwr6d.cloudfront.net/CIK-0001326801/c7318154-f6ae-4866-89fa-f0c589f2ee3d.pdf', 'page': 13, 'total_pages': 147, 'format': 'PDF 1.4', 'title': '0001326801-24-000012', 'author': 'EDGAR® Online LLC, a subsidiary of OTC Markets Group', 'subject': 'Form 10-K filed on 2024-02-02 for the period ending 2023-12-31', 'keywords': '0001326801-24-000012; ; 10-K', 'creator': 'EDGAR Filing HTML Converter', 'producer': 'EDGRpdf Service w/ EO.Pdf 22.0.40.0', 'creationDate': \"D:20240202060356-05'00'\", 'modDate': \"D:20240202060413-05'00'\", 'trapped': '', 'encryption': 'Standard V2 R3 128-bit RC4', '_id': 'dcfc0b362238458eb98577b5a9d22a6a', '_collection_name': 'Meta 10-k Fillings'}),\n",
       " Document(page_content='decision-making and prioritization of cybersecurity countermeasures and risk mitigation strategies. Our risk mitigation strategies include a broad variety of\\ntechnical and operational measures, as well as annual cybersecurity and privacy training for all of our employees.\\nIn addition, we maintain specific policies and practices governing our third-party security risks, including our third-party assessment (TPA) process.\\nUnder our TPA process, we gather information from certain third parties who contract with Meta and share or receive data, or have access to or integrate with\\nour systems, in order to help us assess potential risks associated with their security controls. We also generally require third parties to, among other things,\\nmaintain security controls to protect our confidential information and data, and notify us of material data breaches that may impact our data.\\nOur board of directors has oversight of our strategic and business risk management and has delegated cybersecurity risk management oversight to the', metadata={'source': 'https://d18rn0p25nwr6d.cloudfront.net/CIK-0001326801/c7318154-f6ae-4866-89fa-f0c589f2ee3d.pdf', 'file_path': 'https://d18rn0p25nwr6d.cloudfront.net/CIK-0001326801/c7318154-f6ae-4866-89fa-f0c589f2ee3d.pdf', 'page': 51, 'total_pages': 147, 'format': 'PDF 1.4', 'title': '0001326801-24-000012', 'author': 'EDGAR® Online LLC, a subsidiary of OTC Markets Group', 'subject': 'Form 10-K filed on 2024-02-02 for the period ending 2023-12-31', 'keywords': '0001326801-24-000012; ; 10-K', 'creator': 'EDGAR Filing HTML Converter', 'producer': 'EDGRpdf Service w/ EO.Pdf 22.0.40.0', 'creationDate': \"D:20240202060356-05'00'\", 'modDate': \"D:20240202060413-05'00'\", 'trapped': '', 'encryption': 'Standard V2 R3 128-bit RC4', '_id': '98773667e27d4253b08f882498bb4594', '_collection_name': 'Meta 10-k Fillings'}),\n",
       " Document(page_content='Signature\\nTitle\\nDate\\n/s/ Mark Zuckerberg\\nBoard Chair and Chief Executive Officer\\n(Principal Executive Officer)\\nFebruary 1, 2024\\nMark Zuckerberg\\n/s/ Susan Li\\nChief Financial Officer\\n(Principal Financial Officer)\\nFebruary 1, 2024\\nSusan Li\\n/S/ Aaron Anderson\\nChief Accounting Officer\\n(Principal Accounting Officer)\\nFebruary 1, 2024\\nAaron Anderson\\n/s/ Peggy Alford\\nDirector\\nFebruary 1, 2024\\nPeggy Alford\\n/s/ Marc L. Andreessen\\nDirector\\nFebruary 1, 2024\\nMarc L. Andreessen\\n/s/ Andrew W. Houston\\nDirector\\nFebruary 1, 2024\\nAndrew W. Houston\\n/s/ Nancy Killefer\\nDirector\\nFebruary 1, 2024\\nNancy Killefer\\n/s/ Robert M. Kimmitt\\nDirector\\nFebruary 1, 2024', metadata={'source': 'https://d18rn0p25nwr6d.cloudfront.net/CIK-0001326801/c7318154-f6ae-4866-89fa-f0c589f2ee3d.pdf', 'file_path': 'https://d18rn0p25nwr6d.cloudfront.net/CIK-0001326801/c7318154-f6ae-4866-89fa-f0c589f2ee3d.pdf', 'page': 132, 'total_pages': 147, 'format': 'PDF 1.4', 'title': '0001326801-24-000012', 'author': 'EDGAR® Online LLC, a subsidiary of OTC Markets Group', 'subject': 'Form 10-K filed on 2024-02-02 for the period ending 2023-12-31', 'keywords': '0001326801-24-000012; ; 10-K', 'creator': 'EDGAR Filing HTML Converter', 'producer': 'EDGRpdf Service w/ EO.Pdf 22.0.40.0', 'creationDate': \"D:20240202060356-05'00'\", 'modDate': \"D:20240202060413-05'00'\", 'trapped': '', 'encryption': 'Standard V2 R3 128-bit RC4', '_id': '37ca82e7f39342b9b13142e4c5f49fc1', '_collection_name': 'Meta 10-k Fillings'}),\n",
       " Document(page_content='10-K.\\nHuman Capital\\nAt Meta, everything we do is about helping people feel connected and closer, and we are proud of our unique company culture.\\nWe had a global workforce of 67,317 employees as of December\\xa031, 2023, and we have offices in approximately 90 cities around the world. We are\\ncommitted to fostering an enriching environment for our workforce and we are focused on supporting our people in doing the best work of their careers. We\\noffer competitive compensation and a wide range of benefits, including many learning and development resources, and we work to build a diverse and\\ninclusive workplace.\\nBeginning in November 2022, we took a number of steps to reduce our expense base. For example, our cost reduction efforts have included scaling back\\nbudgets, reducing company perks, shrinking our real estate footprint, and employee layoffs and restructurings. We make it a priority to treat outgoing', metadata={'source': 'https://d18rn0p25nwr6d.cloudfront.net/CIK-0001326801/c7318154-f6ae-4866-89fa-f0c589f2ee3d.pdf', 'file_path': 'https://d18rn0p25nwr6d.cloudfront.net/CIK-0001326801/c7318154-f6ae-4866-89fa-f0c589f2ee3d.pdf', 'page': 12, 'total_pages': 147, 'format': 'PDF 1.4', 'title': '0001326801-24-000012', 'author': 'EDGAR® Online LLC, a subsidiary of OTC Markets Group', 'subject': 'Form 10-K filed on 2024-02-02 for the period ending 2023-12-31', 'keywords': '0001326801-24-000012; ; 10-K', 'creator': 'EDGAR Filing HTML Converter', 'producer': 'EDGRpdf Service w/ EO.Pdf 22.0.40.0', 'creationDate': \"D:20240202060356-05'00'\", 'modDate': \"D:20240202060413-05'00'\", 'trapped': '', 'encryption': 'Standard V2 R3 128-bit RC4', '_id': 'c120481bfaf14eb2b5a74759ee7ac176', '_collection_name': 'Meta 10-k Fillings'})]"
      ]
     },
     "execution_count": 31,
     "metadata": {},
     "output_type": "execute_result"
    }
   ],
   "source": [
    "response_2c[\"context\"]"
   ]
  },
  {
   "cell_type": "markdown",
   "metadata": {},
   "source": [
    "## Third pipeline results analysis\n",
    "- The third pipeline shows good results and can answer both questions. The retrieval strategy has been upgraded and is now working properly."
   ]
  },
  {
   "cell_type": "markdown",
   "metadata": {},
   "source": [
    "# Implementing RAGAS\n",
    "\n",
    "The objective is to use RAGAS to get a quantitative evaluation of the 1st and 3rd pipelines.\n",
    "\n",
    "As the main difference between the two pipelines is the retrieval strategy, using MultiQueryRetriever in the 3rd pipeline, I will use RAGAS to evaluate the retrieval strategy."
   ]
  },
  {
   "cell_type": "code",
   "execution_count": 32,
   "metadata": {},
   "outputs": [],
   "source": [
    "!pip install -qU ragas"
   ]
  },
  {
   "cell_type": "code",
   "execution_count": 33,
   "metadata": {},
   "outputs": [],
   "source": [
    "eval_documents = docs\n",
    "\n",
    "text_splitter_eval = RecursiveCharacterTextSplitter(\n",
    "    chunk_size = 600,\n",
    "    chunk_overlap = 80\n",
    ")\n",
    "\n",
    "eval_documents = text_splitter_eval.split_documents(eval_documents)"
   ]
  },
  {
   "cell_type": "code",
   "execution_count": 34,
   "metadata": {},
   "outputs": [
    {
     "name": "stderr",
     "output_type": "stream",
     "text": [
      "/home/julien/.pyenv/versions/3.11.3/envs/AIMakerSpace/lib/python3.11/site-packages/tqdm/auto.py:21: TqdmWarning: IProgress not found. Please update jupyter and ipywidgets. See https://ipywidgets.readthedocs.io/en/stable/user_install.html\n",
      "  from .autonotebook import tqdm as notebook_tqdm\n",
      "Filename and doc_id are the same for all nodes.                     \n",
      "Generating: 100%|██████████| 10/10 [03:11<00:00, 19.10s/it]\n"
     ]
    }
   ],
   "source": [
    "#!!! DON'T RUN THIS CELL !!! The test set is already generated and saved in the repo.\n",
    "\n",
    "# from ragas.testset.generator import TestsetGenerator\n",
    "# from ragas.testset.evolutions import simple, reasoning, multi_context\n",
    "# from langchain_openai import ChatOpenAI, OpenAIEmbeddings\n",
    "\n",
    "# generator_llm = ChatOpenAI(model=\"gpt-3.5-turbo-16k\")\n",
    "#  critic_llm = ChatOpenAI(model=\"gpt-3.5-turbo\") <--- If you don't have GPT-4 access, or run into rate-limit, or `nan` issues.\n",
    "# critic_llm = ChatOpenAI(model=\"gpt-4-turbo-preview\")\n",
    "# embeddings = OpenAIEmbeddings()\n",
    "\n",
    "# generator = TestsetGenerator.from_langchain(\n",
    "#     generator_llm,\n",
    "#     critic_llm,\n",
    "#     embeddings\n",
    "# )\n",
    "\n",
    "# distributions = {\n",
    "#     simple: 0.4,\n",
    "#     multi_context: 0.4,\n",
    "#     reasoning: 0.2\n",
    "# }\n",
    "\n",
    "# testset = generator.generate_with_langchain_docs(eval_documents, 10, distributions, is_async = False)"
   ]
  },
  {
   "cell_type": "code",
   "execution_count": 51,
   "metadata": {},
   "outputs": [
    {
     "data": {
      "text/html": [
       "<div>\n",
       "<style scoped>\n",
       "    .dataframe tbody tr th:only-of-type {\n",
       "        vertical-align: middle;\n",
       "    }\n",
       "\n",
       "    .dataframe tbody tr th {\n",
       "        vertical-align: top;\n",
       "    }\n",
       "\n",
       "    .dataframe thead th {\n",
       "        text-align: right;\n",
       "    }\n",
       "</style>\n",
       "<table border=\"1\" class=\"dataframe\">\n",
       "  <thead>\n",
       "    <tr style=\"text-align: right;\">\n",
       "      <th></th>\n",
       "      <th>question</th>\n",
       "      <th>contexts</th>\n",
       "      <th>ground_truth</th>\n",
       "      <th>evolution_type</th>\n",
       "      <th>metadata</th>\n",
       "      <th>episode_done</th>\n",
       "    </tr>\n",
       "  </thead>\n",
       "  <tbody>\n",
       "    <tr>\n",
       "      <th>0</th>\n",
       "      <td>How were the financial results of the acquired...</td>\n",
       "      <td>['included the financial results of these acqu...</td>\n",
       "      <td>The financial results of the acquired business...</td>\n",
       "      <td>simple</td>\n",
       "      <td>[{'source': 'https://d18rn0p25nwr6d.cloudfront...</td>\n",
       "      <td>True</td>\n",
       "    </tr>\n",
       "    <tr>\n",
       "      <th>1</th>\n",
       "      <td>How do legislative and regulatory developments...</td>\n",
       "      <td>['Table of Contents\\nconsiderable uncertainty ...</td>\n",
       "      <td>Legislative and regulatory developments can le...</td>\n",
       "      <td>simple</td>\n",
       "      <td>[{'source': 'https://d18rn0p25nwr6d.cloudfront...</td>\n",
       "      <td>True</td>\n",
       "    </tr>\n",
       "    <tr>\n",
       "      <th>2</th>\n",
       "      <td>How might the issuance of significant equity a...</td>\n",
       "      <td>['awards or by future arrangements may not be ...</td>\n",
       "      <td>If we issue significant equity to attract addi...</td>\n",
       "      <td>simple</td>\n",
       "      <td>[{'source': 'https://d18rn0p25nwr6d.cloudfront...</td>\n",
       "      <td>True</td>\n",
       "    </tr>\n",
       "    <tr>\n",
       "      <th>3</th>\n",
       "      <td>What were the net income amounts for META PLAT...</td>\n",
       "      <td>['Table of Contents\\nMETA PLATFORMS, INC.\\nCON...</td>\n",
       "      <td>The net income amounts for META PLATFORMS, INC...</td>\n",
       "      <td>simple</td>\n",
       "      <td>[{'source': 'https://d18rn0p25nwr6d.cloudfront...</td>\n",
       "      <td>True</td>\n",
       "    </tr>\n",
       "    <tr>\n",
       "      <th>4</th>\n",
       "      <td>What benefits come from having a sales presenc...</td>\n",
       "      <td>['is focused on attracting and retaining adver...</td>\n",
       "      <td>The benefits of having a sales presence in aro...</td>\n",
       "      <td>multi_context</td>\n",
       "      <td>[{'source': 'https://d18rn0p25nwr6d.cloudfront...</td>\n",
       "      <td>True</td>\n",
       "    </tr>\n",
       "    <tr>\n",
       "      <th>5</th>\n",
       "      <td>How does negative publicity affect user base s...</td>\n",
       "      <td>['internal company documents by a former emplo...</td>\n",
       "      <td>Negative publicity can have an adverse effect ...</td>\n",
       "      <td>multi_context</td>\n",
       "      <td>[{'source': 'https://d18rn0p25nwr6d.cloudfront...</td>\n",
       "      <td>True</td>\n",
       "    </tr>\n",
       "    <tr>\n",
       "      <th>6</th>\n",
       "      <td>How could disruptions in logistics and the sup...</td>\n",
       "      <td>['single region such as Asia. We have experien...</td>\n",
       "      <td>Disruptions in logistics and the supply chain ...</td>\n",
       "      <td>multi_context</td>\n",
       "      <td>[{'source': 'https://d18rn0p25nwr6d.cloudfront...</td>\n",
       "      <td>True</td>\n",
       "    </tr>\n",
       "    <tr>\n",
       "      <th>7</th>\n",
       "      <td>How do algorithms estimate the number of uniqu...</td>\n",
       "      <td>['algorithms, and machine learning models that...</td>\n",
       "      <td>Algorithms estimate the number of unique indiv...</td>\n",
       "      <td>multi_context</td>\n",
       "      <td>[{'source': 'https://d18rn0p25nwr6d.cloudfront...</td>\n",
       "      <td>True</td>\n",
       "    </tr>\n",
       "    <tr>\n",
       "      <th>8</th>\n",
       "      <td>What are the potential consequences of negativ...</td>\n",
       "      <td>['policies applicable to developers, have adve...</td>\n",
       "      <td>If we are not successful in our efforts to mai...</td>\n",
       "      <td>reasoning</td>\n",
       "      <td>[{'source': 'https://d18rn0p25nwr6d.cloudfront...</td>\n",
       "      <td>True</td>\n",
       "    </tr>\n",
       "    <tr>\n",
       "      <th>9</th>\n",
       "      <td>What are the potential impacts of penalties on...</td>\n",
       "      <td>['personnel) or penalties (including substanti...</td>\n",
       "      <td>Penalties on a business, such as monetary reme...</td>\n",
       "      <td>reasoning</td>\n",
       "      <td>[{'source': 'https://d18rn0p25nwr6d.cloudfront...</td>\n",
       "      <td>True</td>\n",
       "    </tr>\n",
       "  </tbody>\n",
       "</table>\n",
       "</div>"
      ],
      "text/plain": [
       "                                            question  \\\n",
       "0  How were the financial results of the acquired...   \n",
       "1  How do legislative and regulatory developments...   \n",
       "2  How might the issuance of significant equity a...   \n",
       "3  What were the net income amounts for META PLAT...   \n",
       "4  What benefits come from having a sales presenc...   \n",
       "5  How does negative publicity affect user base s...   \n",
       "6  How could disruptions in logistics and the sup...   \n",
       "7  How do algorithms estimate the number of uniqu...   \n",
       "8  What are the potential consequences of negativ...   \n",
       "9  What are the potential impacts of penalties on...   \n",
       "\n",
       "                                            contexts  \\\n",
       "0  ['included the financial results of these acqu...   \n",
       "1  ['Table of Contents\\nconsiderable uncertainty ...   \n",
       "2  ['awards or by future arrangements may not be ...   \n",
       "3  ['Table of Contents\\nMETA PLATFORMS, INC.\\nCON...   \n",
       "4  ['is focused on attracting and retaining adver...   \n",
       "5  ['internal company documents by a former emplo...   \n",
       "6  ['single region such as Asia. We have experien...   \n",
       "7  ['algorithms, and machine learning models that...   \n",
       "8  ['policies applicable to developers, have adve...   \n",
       "9  ['personnel) or penalties (including substanti...   \n",
       "\n",
       "                                        ground_truth evolution_type  \\\n",
       "0  The financial results of the acquired business...         simple   \n",
       "1  Legislative and regulatory developments can le...         simple   \n",
       "2  If we issue significant equity to attract addi...         simple   \n",
       "3  The net income amounts for META PLATFORMS, INC...         simple   \n",
       "4  The benefits of having a sales presence in aro...  multi_context   \n",
       "5  Negative publicity can have an adverse effect ...  multi_context   \n",
       "6  Disruptions in logistics and the supply chain ...  multi_context   \n",
       "7  Algorithms estimate the number of unique indiv...  multi_context   \n",
       "8  If we are not successful in our efforts to mai...      reasoning   \n",
       "9  Penalties on a business, such as monetary reme...      reasoning   \n",
       "\n",
       "                                            metadata  episode_done  \n",
       "0  [{'source': 'https://d18rn0p25nwr6d.cloudfront...          True  \n",
       "1  [{'source': 'https://d18rn0p25nwr6d.cloudfront...          True  \n",
       "2  [{'source': 'https://d18rn0p25nwr6d.cloudfront...          True  \n",
       "3  [{'source': 'https://d18rn0p25nwr6d.cloudfront...          True  \n",
       "4  [{'source': 'https://d18rn0p25nwr6d.cloudfront...          True  \n",
       "5  [{'source': 'https://d18rn0p25nwr6d.cloudfront...          True  \n",
       "6  [{'source': 'https://d18rn0p25nwr6d.cloudfront...          True  \n",
       "7  [{'source': 'https://d18rn0p25nwr6d.cloudfront...          True  \n",
       "8  [{'source': 'https://d18rn0p25nwr6d.cloudfront...          True  \n",
       "9  [{'source': 'https://d18rn0p25nwr6d.cloudfront...          True  "
      ]
     },
     "execution_count": 51,
     "metadata": {},
     "output_type": "execute_result"
    }
   ],
   "source": [
    "test_df = pd.read_csv(\"test_df.csv\")\n",
    "test_df"
   ]
  },
  {
   "cell_type": "code",
   "execution_count": 52,
   "metadata": {},
   "outputs": [],
   "source": [
    "test_questions = test_df[\"question\"].values.tolist()\n",
    "test_groundtruths = test_df[\"ground_truth\"].values.tolist()"
   ]
  },
  {
   "cell_type": "code",
   "execution_count": 53,
   "metadata": {},
   "outputs": [],
   "source": [
    "# Pipeline 1 - Generating answers and contexts for the test questions\n",
    "answers = []\n",
    "contexts = []\n",
    "\n",
    "for question in test_questions:\n",
    "    response = retrieval_augmented_qa_chain.invoke({\"question\" : question})\n",
    "    answers.append(response[\"response\"].content)\n",
    "    contexts.append([context.page_content for context in response[\"context\"]])"
   ]
  },
  {
   "cell_type": "code",
   "execution_count": 54,
   "metadata": {},
   "outputs": [],
   "source": [
    "from datasets import Dataset\n",
    "\n",
    "response_dataset = Dataset.from_dict({\n",
    "    \"question\" : test_questions,\n",
    "    \"answer\" : answers,\n",
    "    \"contexts\" : contexts,\n",
    "    \"ground_truth\" : test_groundtruths\n",
    "})"
   ]
  },
  {
   "cell_type": "code",
   "execution_count": 55,
   "metadata": {},
   "outputs": [
    {
     "data": {
      "text/plain": [
       "{'question': 'How were the financial results of the acquired businesses included in the consolidated financial statements?',\n",
       " 'answer': 'The financial results of the acquired businesses were included in the consolidated financial statements from their respective dates of acquisition.',\n",
       " 'contexts': ['Acquisition of businesses in accrued expenses and other current liabilities and other\\nliabilities\\n$\\n119\\xa0\\n$\\n291\\xa0\\n$\\n73\\xa0\\nOther current assets through financing arrangement in accrued expenses and other\\ncurrent liabilities\\n$\\n15\\xa0\\n$\\n16\\xa0\\n$\\n508\\xa0\\nRepurchases of Class A common stock in accrued expenses and other current liabilities\\n$\\n474\\xa0\\n$\\n310\\xa0\\n$\\n340\\xa0\\nSee Accompanying Notes to Consolidated Financial Statements.\\n94',\n",
       "  'accompanying notes to the consolidated financial statements to the extent material.\\nBusiness Combinations\\nWe allocate the fair value of purchase consideration to the tangible assets acquired, liabilities assumed and intangible assets acquired based on their\\nestimated fair values as of the acquisition date. The excess of the fair value of purchase consideration over the fair values of these identifiable assets and\\nliabilities is recorded as goodwill to reporting units based on the expected benefit from the business combination. Allocation of purchase consideration to\\nidentifiable assets and liabilities affects the amortization expense, as acquired finite-lived intangible assets are amortized over the useful life, whereas any\\nindefinite-lived intangible assets, including goodwill, are not amortized. During the measurement period, which is not to exceed one year from the acquisition\\ndate, we record adjustments to the assets acquired and liabilities assumed, with the corresponding offset to goodwill. Upon the conclusion of the measurement',\n",
       "  'attributable to expected synergies and potential monetization opportunities. The amount of goodwill generated that was deductible for tax purposes was not\\nmaterial. Acquisition-related costs were immaterial and were expensed as incurred. Pro\\xa0 forma historical results of operations related to these business\\nacquisitions have not been presented because they are not significant to our consolidated financial statements, either individually or in aggregate. We have\\nincluded the financial results of these acquired businesses in our consolidated financial statements from their respective dates of acquisition.\\nChanges in the carrying amount of goodwill by reportable segment for the years ended December\\xa031, 2023 and 2022 are as follows (in millions):\\nFamily of Apps\\nReality Labs\\nTotal\\nGoodwill at December 31, 2021\\n$\\n18,458\\xa0\\n$\\n739\\xa0 $\\n19,197\\xa0\\nAcquisitions\\n773\\xa0\\n364\\xa0\\n1,137\\xa0\\nAdjustments\\n19\\xa0\\n(47)\\n(28)',\n",
       "  'requirements for complying with these obligations may be uncertain and subject to interpretation and enforcement by regulatory and other authorities, and any\\nfailure to comply with such obligations could eventually lead to asserted legal or regulatory action. With respect to these matters, asserted and unasserted, we\\nevaluate the associated developments on a regular basis and accrue a liability when we believe that it is both probable that a loss has been incurred and the\\namount can be reasonably estimated. If we determine there is a reasonable possibility that we may incur a loss and the loss or range of loss can be reasonably\\nestimated, we record such losses as general and administrative expenses on our consolidated statements of income and disclose the possible loss in the\\naccompanying notes to the consolidated financial statements to the extent material.\\nBusiness Combinations\\nWe allocate the fair value of purchase consideration to the tangible assets acquired, liabilities assumed and intangible assets acquired based on their'],\n",
       " 'ground_truth': 'The financial results of the acquired businesses were included in the consolidated financial statements from their respective dates of acquisition.'}"
      ]
     },
     "execution_count": 55,
     "metadata": {},
     "output_type": "execute_result"
    }
   ],
   "source": [
    "response_dataset[0]"
   ]
  },
  {
   "cell_type": "code",
   "execution_count": 56,
   "metadata": {},
   "outputs": [],
   "source": [
    "from ragas import evaluate\n",
    "from ragas.metrics import (\n",
    "    faithfulness,\n",
    "    answer_relevancy,\n",
    "    answer_correctness,\n",
    "    context_recall,\n",
    "    context_precision,\n",
    ")\n",
    "\n",
    "metrics = [\n",
    "    faithfulness,\n",
    "    answer_relevancy,\n",
    "    context_recall,\n",
    "    context_precision,\n",
    "    answer_correctness,\n",
    "]"
   ]
  },
  {
   "cell_type": "code",
   "execution_count": 57,
   "metadata": {},
   "outputs": [
    {
     "name": "stderr",
     "output_type": "stream",
     "text": [
      "Evaluating: 100%|██████████| 50/50 [00:19<00:00,  2.53it/s]\n"
     ]
    },
    {
     "data": {
      "text/plain": [
       "{'faithfulness': 1.0000, 'answer_relevancy': 0.9549, 'context_recall': 0.9750, 'context_precision': 0.9222, 'answer_correctness': 0.7871}"
      ]
     },
     "execution_count": 57,
     "metadata": {},
     "output_type": "execute_result"
    }
   ],
   "source": [
    "baseline_results = evaluate(response_dataset, metrics)\n",
    "baseline_results"
   ]
  },
  {
   "cell_type": "code",
   "execution_count": 58,
   "metadata": {},
   "outputs": [],
   "source": [
    "# Pipeline 3 - Generating answers and contexts for the test questions\n",
    "\n",
    "answers = []\n",
    "contexts = []\n",
    "\n",
    "for question in test_questions:\n",
    "    response = retrieval_augmented_qa_chain_3.invoke({\"question\" : question})\n",
    "    answers.append(response[\"response\"].content)\n",
    "    contexts.append([context.page_content for context in response[\"context\"]])"
   ]
  },
  {
   "cell_type": "code",
   "execution_count": 59,
   "metadata": {},
   "outputs": [],
   "source": [
    "multiquery_response_dataset = Dataset.from_dict({\n",
    "    \"question\" : test_questions,\n",
    "    \"answer\" : answers,\n",
    "    \"contexts\" : contexts,\n",
    "    \"ground_truth\" : test_groundtruths\n",
    "})"
   ]
  },
  {
   "cell_type": "code",
   "execution_count": 60,
   "metadata": {},
   "outputs": [
    {
     "name": "stderr",
     "output_type": "stream",
     "text": [
      "Evaluating: 100%|██████████| 50/50 [00:21<00:00,  2.31it/s]\n"
     ]
    },
    {
     "data": {
      "text/plain": [
       "{'faithfulness': 0.9714, 'answer_relevancy': 0.9478, 'context_recall': 0.9500, 'context_precision': 0.9600, 'answer_correctness': 0.7249}"
      ]
     },
     "execution_count": 60,
     "metadata": {},
     "output_type": "execute_result"
    }
   ],
   "source": [
    "multiquery_results = evaluate(multiquery_response_dataset, metrics)\n",
    "multiquery_results"
   ]
  },
  {
   "cell_type": "code",
   "execution_count": 61,
   "metadata": {},
   "outputs": [],
   "source": [
    "baseline_results_df = baseline_results.to_pandas()\n",
    "multiquery_results_df = multiquery_results.to_pandas()"
   ]
  },
  {
   "cell_type": "code",
   "execution_count": 62,
   "metadata": {},
   "outputs": [
    {
     "data": {
      "text/html": [
       "<div>\n",
       "<style scoped>\n",
       "    .dataframe tbody tr th:only-of-type {\n",
       "        vertical-align: middle;\n",
       "    }\n",
       "\n",
       "    .dataframe tbody tr th {\n",
       "        vertical-align: top;\n",
       "    }\n",
       "\n",
       "    .dataframe thead th {\n",
       "        text-align: right;\n",
       "    }\n",
       "</style>\n",
       "<table border=\"1\" class=\"dataframe\">\n",
       "  <thead>\n",
       "    <tr style=\"text-align: right;\">\n",
       "      <th></th>\n",
       "      <th>Metric</th>\n",
       "      <th>Baseline</th>\n",
       "      <th>MultiQueryRetriever</th>\n",
       "      <th>Delta</th>\n",
       "    </tr>\n",
       "  </thead>\n",
       "  <tbody>\n",
       "    <tr>\n",
       "      <th>0</th>\n",
       "      <td>faithfulness</td>\n",
       "      <td>1.000000</td>\n",
       "      <td>0.971429</td>\n",
       "      <td>-0.028571</td>\n",
       "    </tr>\n",
       "    <tr>\n",
       "      <th>1</th>\n",
       "      <td>answer_relevancy</td>\n",
       "      <td>0.954854</td>\n",
       "      <td>0.947837</td>\n",
       "      <td>-0.007017</td>\n",
       "    </tr>\n",
       "    <tr>\n",
       "      <th>2</th>\n",
       "      <td>context_recall</td>\n",
       "      <td>0.975000</td>\n",
       "      <td>0.950000</td>\n",
       "      <td>-0.025000</td>\n",
       "    </tr>\n",
       "    <tr>\n",
       "      <th>3</th>\n",
       "      <td>context_precision</td>\n",
       "      <td>0.922222</td>\n",
       "      <td>0.960000</td>\n",
       "      <td>0.037778</td>\n",
       "    </tr>\n",
       "    <tr>\n",
       "      <th>4</th>\n",
       "      <td>answer_correctness</td>\n",
       "      <td>0.787098</td>\n",
       "      <td>0.724884</td>\n",
       "      <td>-0.062214</td>\n",
       "    </tr>\n",
       "  </tbody>\n",
       "</table>\n",
       "</div>"
      ],
      "text/plain": [
       "               Metric  Baseline  MultiQueryRetriever     Delta\n",
       "0        faithfulness  1.000000             0.971429 -0.028571\n",
       "1    answer_relevancy  0.954854             0.947837 -0.007017\n",
       "2      context_recall  0.975000             0.950000 -0.025000\n",
       "3   context_precision  0.922222             0.960000  0.037778\n",
       "4  answer_correctness  0.787098             0.724884 -0.062214"
      ]
     },
     "execution_count": 62,
     "metadata": {},
     "output_type": "execute_result"
    }
   ],
   "source": [
    "df_original = pd.DataFrame(list(baseline_results.items()), columns=['Metric', 'Baseline'])\n",
    "df_comparison = pd.DataFrame(list(multiquery_results.items()), columns=['Metric', 'MultiQueryRetriever'])\n",
    "\n",
    "df_merged = pd.merge(df_original, df_comparison, on='Metric')\n",
    "\n",
    "df_merged['Delta'] = df_merged['MultiQueryRetriever'] - df_merged['Baseline']\n",
    "\n",
    "df_merged"
   ]
  },
  {
   "cell_type": "markdown",
   "metadata": {},
   "source": [
    "# RAGAS results analysis\n",
    "- The RAGAS evaluation shows that both 1st and 3rd pipelines have a excellent performance. The first pipline is even better than the MultiQueryRetriever one. Except for the context_precision, where the MultiQueryRetriever is better than the first pipeline, but by a few percent only.\n",
    "\n",
    "- We need to answer these two questions:\n",
    "    1. \"What was the total value of 'Cash and cash equivalents' as of December 31, 2023?\"\n",
    "    2. \"Who are Meta's 'Directors' (i.e., members of the Board of Directors)?\"\n",
    "\n",
    "The first question is easy and can be answered by the first pipeline. The second question is more difficult and needs a better retrieval strategy, which is the case in the third pipeline. It never worked in the first pipeline.\n",
    "\n",
    "Maybe this illustrates some limitations of RAGAS."
   ]
  }
 ],
 "metadata": {
  "kernelspec": {
   "display_name": "AIMakerSpace",
   "language": "python",
   "name": "python3"
  },
  "language_info": {
   "codemirror_mode": {
    "name": "ipython",
    "version": 3
   },
   "file_extension": ".py",
   "mimetype": "text/x-python",
   "name": "python",
   "nbconvert_exporter": "python",
   "pygments_lexer": "ipython3",
   "version": "3.11.3"
  }
 },
 "nbformat": 4,
 "nbformat_minor": 2
}
